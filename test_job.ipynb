{
 "cells": [
  {
   "cell_type": "code",
   "execution_count": 4,
   "metadata": {
    "ExecuteTime": {
     "end_time": "2024-03-21T10:44:17.442103Z",
     "start_time": "2024-03-21T10:44:15.419131Z"
    }
   },
   "outputs": [],
   "source": [
    "from datetime import datetime\n",
    "from os import environ\n",
    "import sagemaker\n",
    "from sagemaker.estimator import Estimator"
   ]
  },
  {
   "cell_type": "markdown",
   "metadata": {},
   "source": [
    "## Build and push image\n",
    "\n",
    "Change the env vars in the shell scripts, according to your project"
   ]
  },
  {
   "cell_type": "code",
   "execution_count": 6,
   "metadata": {
    "ExecuteTime": {
     "end_time": "2024-03-21T10:44:20.116207Z",
     "start_time": "2024-03-21T10:44:20.113355Z"
    }
   },
   "outputs": [],
   "source": [
    "data_center = \"us\"\n",
    "\n",
    "if data_center == \"us\":\n",
    "    bucket = \"quicklizard\"\n",
    "    aws_region = \"us-east-1\"\n",
    "elif data_center == \"eu\":\n",
    "    bucket = \"quicklizard-eu-central\"\n",
    "    aws_region = \"eu-central-1\"\n",
    "\n",
    "# img_tag = \"qa-1.0\"\n",
    "img_tag = \"0.1.0\"\n",
    "proj_name = \"elasticity\"\n",
    "environ[\"AWS_REGION\"] = aws_region\n",
    "environ[\"AWS_DEFAULT_REGION\"] = aws_region\n",
    "\n",
    "# aws ecr create-repository --repository-name $PROJ_NAME --region $AWS_REGION"
   ]
  },
  {
   "cell_type": "code",
   "execution_count": 10,
   "metadata": {
    "ExecuteTime": {
     "end_time": "2024-03-21T11:01:42.614557Z",
     "start_time": "2024-03-21T10:44:21.882254Z"
    }
   },
   "outputs": [
    {
     "name": "stdout",
     "output_type": "stream",
     "text": [
      "\n",
      "Building docker image elasticity:0.1.0 for US data center\n",
      "DOCKER_BUILDKIT=1 docker build --platform linux/amd64 --ssh default -t 444642203706.dkr.ecr.us-east-1.amazonaws.com/elasticity:0.1.0 .\n"
     ]
    },
    {
     "name": "stderr",
     "output_type": "stream",
     "text": [
      "#0 building with \"default\" instance using docker driver\n",
      "\n",
      "#1 [internal] load build definition from Dockerfile\n",
      "#1 transferring dockerfile: 649B done\n",
      "#1 DONE 0.0s\n",
      "\n",
      "#2 [auth] library/python:pull token for registry-1.docker.io\n",
      "#2 DONE 0.0s\n",
      "\n",
      "#3 [internal] load metadata for docker.io/library/python:3.11.6-slim-bookworm\n",
      "#3 DONE 1.2s\n",
      "\n",
      "#4 [internal] load .dockerignore\n",
      "#4 transferring context: 300B done\n",
      "#4 DONE 0.0s\n",
      "\n",
      "#5 [1/8] FROM docker.io/library/python:3.11.6-slim-bookworm@sha256:cc758519481092eb5a4a5ab0c1b303e288880d59afc601958d19e95b300bc86b\n",
      "#5 DONE 0.0s\n",
      "\n",
      "#6 [internal] load build context\n",
      "#6 transferring context: 2.56kB done\n",
      "#6 DONE 0.0s\n",
      "\n",
      "#7 [3/8] COPY src/elasticity/ /usr/bin/elasticity\n",
      "#7 CACHED\n",
      "\n",
      "#8 [2/8] COPY src/ql_toolkit/ /usr/bin/ql_toolkit\n",
      "#8 CACHED\n",
      "\n",
      "#9 [5/8] COPY src/main.py /usr/bin/train\n",
      "#9 CACHED\n",
      "\n",
      "#10 [7/8] RUN pip3 install --no-cache-dir -U pip setuptools wheel &&     pip3 install --no-cache-dir -r /usr/bin/elasticity/requirements.txt\n",
      "#10 CACHED\n",
      "\n",
      "#11 [6/8] RUN apt-get update &&     apt-get -y upgrade &&     apt-get install -y build-essential libblas-dev gcc &&     rm -rf /var/lib/apt/lists/* &&    apt-get clean\n",
      "#11 CACHED\n",
      "\n",
      "#12 [4/8] COPY src/requirements.txt /usr/bin/elasticity/\n",
      "#12 CACHED\n",
      "\n",
      "#13 [8/8] RUN chmod 755 /usr/bin/train\n",
      "#13 CACHED\n",
      "\n",
      "#14 exporting to image\n",
      "#14 exporting layers done\n",
      "#14 writing image sha256:cb0c3789b0e81fff0a671d3048ada4ac45ee48a8ee0b3344e6f3792d15c1ec03 done\n",
      "#14 naming to 444642203706.dkr.ecr.us-east-1.amazonaws.com/elasticity:0.1.0 done\n",
      "#14 DONE 0.0s\n"
     ]
    },
    {
     "name": "stdout",
     "output_type": "stream",
     "text": [
      "\n",
      "Pushing image elasticity:0.1.0 to AWS ECR (US)\n"
     ]
    },
    {
     "name": "stderr",
     "output_type": "stream",
     "text": [
      "WARNING! Your password will be stored unencrypted in /home/alexia/.docker/config.json.\n",
      "Configure a credential helper to remove this warning. See\n",
      "https://docs.docker.com/engine/reference/commandline/login/#credentials-store\n",
      "\n"
     ]
    },
    {
     "name": "stdout",
     "output_type": "stream",
     "text": [
      "Login Succeeded\n",
      "docker push 444642203706.dkr.ecr.us-east-1.amazonaws.com/elasticity:0.1.0\n",
      "The push refers to repository [444642203706.dkr.ecr.us-east-1.amazonaws.com/elasticity]\n",
      "e2ca58122144: Preparing\n",
      "ced3dadc6c43: Preparing\n",
      "c26a248612af: Preparing\n",
      "1106fdf30f58: Preparing\n",
      "a975e26194cc: Preparing\n",
      "9644be2c9349: Preparing\n",
      "511741431f5d: Preparing\n",
      "d8815e8a268d: Preparing\n",
      "8655910e6b5f: Preparing\n",
      "355bb094feb8: Preparing\n",
      "ed123c9f1a56: Preparing\n",
      "92770f546e06: Preparing\n",
      "511741431f5d: Waiting\n",
      "d8815e8a268d: Waiting\n",
      "8655910e6b5f: Waiting\n",
      "355bb094feb8: Waiting\n",
      "ed123c9f1a56: Waiting\n",
      "92770f546e06: Waiting\n",
      "9644be2c9349: Waiting\n",
      "ced3dadc6c43: Layer already exists\n",
      "c26a248612af: Layer already exists\n",
      "1106fdf30f58: Layer already exists\n",
      "a975e26194cc: Layer already exists\n",
      "e2ca58122144: Layer already exists\n",
      "8655910e6b5f: Layer already exists\n",
      "355bb094feb8: Layer already exists\n",
      "9644be2c9349: Layer already exists\n",
      "d8815e8a268d: Layer already exists\n",
      "511741431f5d: Layer already exists\n",
      "92770f546e06: Layer already exists\n",
      "ed123c9f1a56: Layer already exists\n",
      "0.1.0: digest: sha256:0e44df5052280e26c633d5a0c30f1b87e962ec577c77fe99c83ff2dc1f9f7c1d size: 2839\n",
      "\n",
      "Building docker image elasticity:0.1.0 for EU data center\n",
      "DOCKER_BUILDKIT=1 docker build --platform linux/amd64 --ssh default -t 444642203706.dkr.ecr.eu-central-1.amazonaws.com/elasticity:0.1.0 .\n"
     ]
    },
    {
     "name": "stderr",
     "output_type": "stream",
     "text": [
      "#0 building with \"default\" instance using docker driver\n",
      "\n",
      "#1 [internal] load build definition from Dockerfile\n",
      "#1 transferring dockerfile: 649B done\n",
      "#1 DONE 0.0s\n",
      "\n",
      "#2 [internal] load metadata for docker.io/library/python:3.11.6-slim-bookworm\n",
      "#2 DONE 0.7s\n",
      "\n",
      "#3 [internal] load .dockerignore\n",
      "#3 transferring context: 300B done\n",
      "#3 DONE 0.0s\n",
      "\n",
      "#4 [1/8] FROM docker.io/library/python:3.11.6-slim-bookworm@sha256:cc758519481092eb5a4a5ab0c1b303e288880d59afc601958d19e95b300bc86b\n",
      "#4 DONE 0.0s\n",
      "\n",
      "#5 [internal] load build context\n",
      "#5 transferring context: 2.56kB done\n",
      "#5 DONE 0.0s\n",
      "\n",
      "#6 [3/8] COPY src/elasticity/ /usr/bin/elasticity\n",
      "#6 CACHED\n",
      "\n",
      "#7 [4/8] COPY src/requirements.txt /usr/bin/elasticity/\n",
      "#7 CACHED\n",
      "\n",
      "#8 [5/8] COPY src/main.py /usr/bin/train\n",
      "#8 CACHED\n",
      "\n",
      "#9 [7/8] RUN pip3 install --no-cache-dir -U pip setuptools wheel &&     pip3 install --no-cache-dir -r /usr/bin/elasticity/requirements.txt\n",
      "#9 CACHED\n",
      "\n",
      "#10 [2/8] COPY src/ql_toolkit/ /usr/bin/ql_toolkit\n",
      "#10 CACHED\n",
      "\n",
      "#11 [6/8] RUN apt-get update &&     apt-get -y upgrade &&     apt-get install -y build-essential libblas-dev gcc &&     rm -rf /var/lib/apt/lists/* &&    apt-get clean\n",
      "#11 CACHED\n",
      "\n",
      "#12 [8/8] RUN chmod 755 /usr/bin/train\n",
      "#12 CACHED\n",
      "\n",
      "#13 exporting to image\n",
      "#13 exporting layers done\n",
      "#13 writing image sha256:cb0c3789b0e81fff0a671d3048ada4ac45ee48a8ee0b3344e6f3792d15c1ec03 done\n",
      "#13 naming to 444642203706.dkr.ecr.eu-central-1.amazonaws.com/elasticity:0.1.0 done\n",
      "#13 DONE 0.0s\n"
     ]
    },
    {
     "name": "stdout",
     "output_type": "stream",
     "text": [
      "\n",
      "Pushing image elasticity:0.1.0 to AWS ECR (EU)\n"
     ]
    },
    {
     "name": "stderr",
     "output_type": "stream",
     "text": [
      "WARNING! Your password will be stored unencrypted in /home/alexia/.docker/config.json.\n",
      "Configure a credential helper to remove this warning. See\n",
      "https://docs.docker.com/engine/reference/commandline/login/#credentials-store\n",
      "\n"
     ]
    },
    {
     "name": "stdout",
     "output_type": "stream",
     "text": [
      "Login Succeeded\n",
      "docker push 444642203706.dkr.ecr.eu-central-1.amazonaws.com/elasticity:0.1.0\n",
      "The push refers to repository [444642203706.dkr.ecr.eu-central-1.amazonaws.com/elasticity]\n",
      "e2ca58122144: Preparing\n",
      "ced3dadc6c43: Preparing\n",
      "c26a248612af: Preparing\n",
      "1106fdf30f58: Preparing\n",
      "a975e26194cc: Preparing\n",
      "9644be2c9349: Preparing\n",
      "511741431f5d: Preparing\n",
      "d8815e8a268d: Preparing\n",
      "8655910e6b5f: Preparing\n",
      "355bb094feb8: Preparing\n",
      "ed123c9f1a56: Preparing\n",
      "92770f546e06: Preparing\n",
      "8655910e6b5f: Waiting\n",
      "355bb094feb8: Waiting\n",
      "ed123c9f1a56: Waiting\n",
      "9644be2c9349: Waiting\n",
      "d8815e8a268d: Waiting\n",
      "511741431f5d: Waiting\n",
      "92770f546e06: Waiting\n",
      "1106fdf30f58: Layer already exists\n",
      "c26a248612af: Layer already exists\n",
      "ced3dadc6c43: Layer already exists\n",
      "e2ca58122144: Layer already exists\n",
      "a975e26194cc: Layer already exists\n",
      "8655910e6b5f: Layer already exists\n",
      "9644be2c9349: Layer already exists\n",
      "511741431f5d: Layer already exists\n",
      "355bb094feb8: Layer already exists\n",
      "d8815e8a268d: Layer already exists\n",
      "92770f546e06: Layer already exists\n",
      "ed123c9f1a56: Layer already exists\n",
      "0.1.0: digest: sha256:0e44df5052280e26c633d5a0c30f1b87e962ec577c77fe99c83ff2dc1f9f7c1d size: 2839\n"
     ]
    }
   ],
   "source": [
    "%%sh -s $img_tag $proj_name\n",
    "make TAG=\"$1\" PROJ=\"$2\"\n",
    "\n",
    "# chmod 755 containerize_m1.sh\n",
    "# ./containerize_m1.sh \"$1\""
   ]
  },
  {
   "cell_type": "markdown",
   "metadata": {},
   "source": [
    "## Prepare Sagemaker params"
   ]
  },
  {
   "cell_type": "code",
   "execution_count": 1,
   "metadata": {
    "ExecuteTime": {
     "end_time": "2023-12-26T11:12:44.292191Z",
     "start_time": "2023-12-26T11:12:44.286379Z"
    }
   },
   "outputs": [
    {
     "ename": "NameError",
     "evalue": "name 'environ' is not defined",
     "output_type": "error",
     "traceback": [
      "\u001b[0;31m---------------------------------------------------------------------------\u001b[0m",
      "\u001b[0;31mNameError\u001b[0m                                 Traceback (most recent call last)",
      "Cell \u001b[0;32mIn[1], line 2\u001b[0m\n\u001b[1;32m      1\u001b[0m \u001b[38;5;66;03m# don't push\u001b[39;00m\n\u001b[0;32m----> 2\u001b[0m \u001b[43menviron\u001b[49m[\u001b[38;5;124m\"\u001b[39m\u001b[38;5;124mSGMKR_ROLE\u001b[39m\u001b[38;5;124m\"\u001b[39m] \u001b[38;5;241m=\u001b[39m \u001b[38;5;124m'\u001b[39m\u001b[38;5;124marn:aws:iam::444642203706:role/service-role/AmazonSageMaker-ExecutionRole-20221018T092338\u001b[39m\u001b[38;5;124m'\u001b[39m\n\u001b[1;32m      3\u001b[0m role \u001b[38;5;241m=\u001b[39m environ\u001b[38;5;241m.\u001b[39mget(\u001b[38;5;124m\"\u001b[39m\u001b[38;5;124mSGMKR_ROLE\u001b[39m\u001b[38;5;124m\"\u001b[39m)\n\u001b[1;32m      4\u001b[0m \u001b[38;5;66;03m# role = sagemaker.get_execution_role()\u001b[39;00m\n",
      "\u001b[0;31mNameError\u001b[0m: name 'environ' is not defined"
     ]
    }
   ],
   "source": [
    "# don't push\n",
    "environ[\"SGMKR_ROLE\"] = ''\n",
    "role = environ.get(\"SGMKR_ROLE\")\n",
    "# role = sagemaker.get_execution_role()\n",
    "\n",
    "s3_output_dir = f\"s3://{bucket}/data_science/sagemaker/job_artifacts/{proj_name}\""
   ]
  },
  {
   "cell_type": "code",
   "execution_count": 19,
   "metadata": {
    "ExecuteTime": {
     "end_time": "2023-12-26T11:56:05.180524Z",
     "start_time": "2023-12-26T11:56:05.171674Z"
    }
   },
   "outputs": [],
   "source": [
    "def get_sess_params(is_local: bool):\n",
    "    if is_local:\n",
    "        sess = sagemaker.LocalSession(default_bucket=bucket)\n",
    "        train_instance = \"local\"\n",
    "        deploy_instance = \"local\"\n",
    "    else:\n",
    "        sess = sagemaker.Session(default_bucket=bucket)\n",
    "        train_instance = \"ml.m5.2xlarge\"\n",
    "        deploy_instance = \"ml.m5.2xlarge\"\n",
    "    account_id = sess.boto_session.client('sts').get_caller_identity()['Account']\n",
    "    region = sess.boto_session.region_name\n",
    "    return sess, train_instance, deploy_instance, account_id, region"
   ]
  },
  {
   "cell_type": "markdown",
   "metadata": {},
   "source": [
    "## Run Sagemaker job in local mode"
   ]
  },
  {
   "cell_type": "code",
   "execution_count": null,
   "metadata": {},
   "outputs": [],
   "source": [
    "job_id = f\"{proj_name}-{datetime.strftime(datetime.now(), format='%Y-%m-%dT%H-%M')}\"\n",
    "\n",
    "print(f\"Preparing to run local-{job_id}:{img_tag}\")\n",
    "\n",
    "sess, train_instance, deploy_instance, account_id, region = get_sess_params(is_local=True)\n",
    "\n",
    "estimator_local = Estimator(\n",
    "    image_uri=f\"{account_id}.dkr.ecr.{region}.amazonaws.com/{proj_name}:{img_tag}\",\n",
    "    sagemaker_sess=sess,\n",
    "    role=role,\n",
    "    instance_type=train_instance,\n",
    "    instance_count=1,\n",
    "    output_path=s3_output_dir,\n",
    "    hyperparameters={\n",
    "        \"data_center\": data_center,\n",
    "        \"config\": \"config_qa\",\n",
    "    }\n",
    ")\n",
    "\n",
    "estimator_local.fit(job_name=f\"local-{job_id}\")"
   ]
  },
  {
   "cell_type": "markdown",
   "metadata": {},
   "source": [
    "## Run on EC2"
   ]
  },
  {
   "cell_type": "code",
   "execution_count": 20,
   "metadata": {
    "ExecuteTime": {
     "end_time": "2023-12-26T15:43:00.359328Z",
     "start_time": "2023-12-26T13:02:10.711985Z"
    }
   },
   "outputs": [
    {
     "name": "stdout",
     "output_type": "stream",
     "text": [
      "Preparing to run elasticity-complete-run-test-m5x12-2024-03-25T11-01:0.1.0\n"
     ]
    },
    {
     "name": "stderr",
     "output_type": "stream",
     "text": [
      "INFO:sagemaker:Creating training-job with name: elasticity-complete-run-test-m5x12-2024-03-25T11-01\n"
     ]
    },
    {
     "name": "stdout",
     "output_type": "stream",
     "text": [
      "2024-03-25 09:01:04 Starting - Starting the training job...\n",
      "2024-03-25 09:01:20 Starting - Preparing the instances for training...\n",
      "2024-03-25 09:02:05 Downloading - Downloading the training image\n",
      "2024-03-25 09:02:05 Training - Training image download completed. Training in progress..Setting up runtime environment...\n",
      "Reading arguments from /opt/ml/input/config (inside container)\n",
      "[2024-03-25 09:02:12] [INFO    ]: Setting up runtime environment... (setup.py/run_setup)\n",
      "Job CLI args:\n",
      "config: config_qa (<class 'str'>)\n",
      "data_center: us (<class 'str'>)\n",
      "project_name: elasticity (<class 'str'>)\n",
      "local: False (<class 'bool'>)\n",
      "[2024-03-25 09:02:12] [INFO    ]: Running on the US Data Center (quicklizard Bucket) (setup.py/run_setup)\n",
      "[2024-03-25 09:02:12] [INFO    ]: Setup complete! (setup.py/run_setup)\n",
      "{'client_keys': {'feeluniquecom': {'channels': ['default']}}}\n",
      "{'feeluniquecom': {'channels': ['default']}}\n",
      "[2024-03-25 09:02:12] [INFO    ]: Processing feeluniquecom - default (train/run)\n",
      "data_science/archive/db_sets\n",
      "quicklizard\n",
      "\n",
      "2024-03-25 09:02:25 Uploading - Uploading generated training model\n",
      "2024-03-25 09:02:25 Completed - Training job completed\n",
      "Training seconds: 36\n",
      "Billable seconds: 17\n",
      "Managed Spot Training savings: 52.8%\n"
     ]
    }
   ],
   "source": [
    "job_id = f\"{proj_name}-complete-run-test-m5x12-{datetime.strftime(datetime.now(), format='%Y-%m-%dT%H-%M')}\"\n",
    "\n",
    "print(f\"Preparing to run {job_id}:{img_tag}\")\n",
    "\n",
    "sess, train_instance, deploy_instance, account_id, region = get_sess_params(is_local=False)\n",
    "\n",
    "estimator_local = Estimator(\n",
    "    image_uri=f\"{account_id}.dkr.ecr.{region}.amazonaws.com/{proj_name}:{img_tag}\",\n",
    "    sagemaker_sess=sess,\n",
    "    role=role,\n",
    "    use_spot_instances=True,\n",
    "    max_run=21600,\n",
    "    max_wait=21600,\n",
    "    instance_type=train_instance,\n",
    "    volume_size=12,\n",
    "    instance_count=1,\n",
    "    output_path=s3_output_dir,\n",
    "    hyperparameters={\n",
    "        \"data_center\": data_center,\n",
    "        \"config\": \"config_qa\",\n",
    "        'project_name': proj_name\n",
    "    }\n",
    ")\n",
    "\n",
    "estimator_local.fit(job_name=f\"{job_id}\")"
   ]
  },
  {
   "cell_type": "code",
   "execution_count": null,
   "metadata": {
    "collapsed": false
   },
   "outputs": [],
   "source": []
  }
 ],
 "metadata": {
  "kernelspec": {
   "display_name": "Python 3.9.14 ('.venv': poetry)",
   "language": "python",
   "name": "python3"
  },
  "language_info": {
   "codemirror_mode": {
    "name": "ipython",
    "version": 3
   },
   "file_extension": ".py",
   "mimetype": "text/x-python",
   "name": "python",
   "nbconvert_exporter": "python",
   "pygments_lexer": "ipython3",
   "version": "3.11.8"
  },
  "orig_nbformat": 4,
  "vscode": {
   "interpreter": {
    "hash": "1c015263da8b805a6887cf67d22af2ca4f9a3884b52a79814486f7c7e8e50d27"
   }
  }
 },
 "nbformat": 4,
 "nbformat_minor": 2
}
